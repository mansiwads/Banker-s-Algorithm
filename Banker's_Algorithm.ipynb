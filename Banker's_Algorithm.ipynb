{
  "nbformat": 4,
  "nbformat_minor": 0,
  "metadata": {
    "colab": {
      "provenance": []
    },
    "kernelspec": {
      "name": "python3",
      "display_name": "Python 3"
    },
    "language_info": {
      "name": "python"
    }
  },
  "cells": [
    {
      "cell_type": "code",
      "execution_count": null,
      "metadata": {
        "id": "0s1g5LNpozxW",
        "outputId": "8340cf78-20b0-476e-ef37-a34d483308e5",
        "colab": {
          "base_uri": "https://localhost:8080/"
        }
      },
      "outputs": [
        {
          "output_type": "stream",
          "name": "stdout",
          "text": [
            "enter number of resources:3\n",
            "enter instance: 10\n",
            "enter instance: 5\n",
            "enter instance: 7\n",
            "[10, 5, 7]\n"
          ]
        }
      ],
      "source": [
        "n=int(input(\"enter number of resources:\"))\n",
        "inst=[]\n",
        "avail=[]\n",
        "for i in range(0,n):\n",
        "  avail.append(0)\n",
        "  inst.append(int(input(\"enter instance: \")))\n",
        "print(inst)"
      ]
    },
    {
      "cell_type": "code",
      "source": [
        "p=int(input(\"enter number of processes:\"))"
      ],
      "metadata": {
        "colab": {
          "base_uri": "https://localhost:8080/"
        },
        "id": "DVQhVVEHt1OP",
        "outputId": "a27a0735-cbb4-4fdb-912b-93af473d8a10"
      },
      "execution_count": null,
      "outputs": [
        {
          "name": "stdout",
          "output_type": "stream",
          "text": [
            "enter number of processes:5\n"
          ]
        }
      ]
    },
    {
      "cell_type": "code",
      "source": [
        "alloc=[]\n",
        "for i in range(0,p):\n",
        "  allo=[]\n",
        "  for j in range(0,n):\n",
        "    allo.append(int(input(\"enter allocation for process \")))\n",
        "  alloc.append(allo)\n",
        "\n",
        "for i in range(0,p):\n",
        "  for j in range(0,n):\n",
        "    print(alloc[i][j],end=\" \")\n",
        "  print()"
      ],
      "metadata": {
        "colab": {
          "base_uri": "https://localhost:8080/"
        },
        "id": "zCINKLxfvl5F",
        "outputId": "e60d5ce6-343e-428b-bbd3-cfb1a4b5ea39"
      },
      "execution_count": null,
      "outputs": [
        {
          "output_type": "stream",
          "name": "stdout",
          "text": [
            "enter allocation for process 0\n",
            "enter allocation for process 1\n",
            "enter allocation for process 0\n",
            "enter allocation for process 2\n",
            "enter allocation for process 0\n",
            "enter allocation for process 0\n",
            "enter allocation for process 3\n",
            "enter allocation for process 0\n",
            "enter allocation for process 2\n",
            "enter allocation for process 2\n",
            "enter allocation for process 1\n",
            "enter allocation for process 1\n",
            "enter allocation for process 0\n",
            "enter allocation for process 0\n",
            "enter allocation for process 2\n",
            "0 1 0 \n",
            "2 0 0 \n",
            "3 0 2 \n",
            "2 1 1 \n",
            "0 0 2 \n"
          ]
        }
      ]
    },
    {
      "cell_type": "code",
      "source": [
        "max=[]\n",
        "for i in range(0,p):\n",
        "  mx=[]\n",
        "  for j in range(0,n):\n",
        "    mx.append(int(input(\"enter MAX for process \")))#enter  max\n",
        "  max.append(mx)\n",
        "\n",
        "for i in range(0,p):\n",
        "  for j in range(0,n):\n",
        "    print(max[i][j],end=\" \")\n",
        "  print()"
      ],
      "metadata": {
        "colab": {
          "base_uri": "https://localhost:8080/"
        },
        "id": "oRKBEWVb1t-5",
        "outputId": "21039dbb-08de-4dbe-ebc8-07a8ce45572f"
      },
      "execution_count": null,
      "outputs": [
        {
          "output_type": "stream",
          "name": "stdout",
          "text": [
            "enter MAX for process 7\n",
            "enter MAX for process 5\n",
            "enter MAX for process 3\n",
            "enter MAX for process 3\n",
            "enter MAX for process 2\n",
            "enter MAX for process 2\n",
            "enter MAX for process 9\n",
            "enter MAX for process 0\n",
            "enter MAX for process 2\n",
            "enter MAX for process 2\n",
            "enter MAX for process 2\n",
            "enter MAX for process 2\n",
            "enter MAX for process 4\n",
            "enter MAX for process 3\n",
            "enter MAX for process 3\n",
            "7 5 3 \n",
            "3 2 2 \n",
            "9 0 2 \n",
            "2 2 2 \n",
            "4 3 3 \n"
          ]
        }
      ]
    },
    {
      "cell_type": "code",
      "source": [
        "import numpy as np\n",
        "max = np.array(max)\n"
      ],
      "metadata": {
        "id": "unBp6U7o-ogh"
      },
      "execution_count": null,
      "outputs": []
    },
    {
      "cell_type": "code",
      "source": [
        "avail=inst-np.sum(alloc,axis=0)"
      ],
      "metadata": {
        "id": "SW231Ia2-9x1"
      },
      "execution_count": null,
      "outputs": []
    },
    {
      "cell_type": "code",
      "source": [
        "avail=np.array(avail)"
      ],
      "metadata": {
        "id": "lDC4YvSxB3Le"
      },
      "execution_count": null,
      "outputs": []
    },
    {
      "cell_type": "code",
      "source": [
        "avail"
      ],
      "metadata": {
        "colab": {
          "base_uri": "https://localhost:8080/"
        },
        "id": "Vm9D1l1U6p3T",
        "outputId": "16f231bc-1096-4f04-ee9f-6b29fee530a7"
      },
      "execution_count": null,
      "outputs": [
        {
          "output_type": "execute_result",
          "data": {
            "text/plain": [
              "array([3, 3, 2])"
            ]
          },
          "metadata": {},
          "execution_count": 25
        }
      ]
    },
    {
      "cell_type": "code",
      "source": [
        "f = [0]*p\n",
        "ans = [0]*p\n",
        "ind = 0\n",
        "for k in range(p):\n",
        "  f[k] = 0\n",
        "         \n",
        "need = [[ 0 for i in range(n)]for i in range(p)]\n",
        "for i in range(p):\n",
        "    for j in range(n):\n",
        "        need[i][j] = max[i][j] - alloc[i][j]\n",
        "y = 0\n",
        "for k in range(5):\n",
        "    for i in range(p):\n",
        "        if (f[i] == 0):\n",
        "           flag = 0\n",
        "           for j in range(n):\n",
        "               if (need[i][j] > avail[j]):\n",
        "                  flag = 1\n",
        "                  break\n",
        "                 \n",
        "           if (flag == 0):\n",
        "               ans[ind] = i\n",
        "               ind += 1\n",
        "               for y in range(n):\n",
        "                   avail[y] += alloc[i][y]\n",
        "               f[i] = 1\n",
        "                     \n",
        "print(\"Following is the SAFE Sequence\")\n",
        "     \n",
        "for i in range(p - 1):\n",
        "    print(\" P\", ans[i], \" ->\", sep=\"\", end=\"\")\n",
        "print(\" P\", ans[p - 1], sep=\"\")"
      ],
      "metadata": {
        "colab": {
          "base_uri": "https://localhost:8080/"
        },
        "id": "k-y4pTOgEuAy",
        "outputId": "617565ac-0b18-42b5-bed3-f33231d99fb0"
      },
      "execution_count": null,
      "outputs": [
        {
          "output_type": "stream",
          "name": "stdout",
          "text": [
            "Following is the SAFE Sequence\n",
            " P1 -> P3 -> P4 -> P0 -> P2\n"
          ]
        }
      ]
    }
  ]
}